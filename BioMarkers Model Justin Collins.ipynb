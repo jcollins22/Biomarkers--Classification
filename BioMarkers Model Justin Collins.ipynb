{
 "cells": [
  {
   "cell_type": "markdown",
   "metadata": {},
   "source": [
    "#Tempus Biomarkers Notebook\n",
    "##Justin Collins"
   ]
  },
  {
   "cell_type": "code",
   "execution_count": 48,
   "metadata": {},
   "outputs": [],
   "source": [
    "#import needed packages\n",
    "import json\n",
    "import pandas as pd\n",
    "import numpy as np"
   ]
  },
  {
   "cell_type": "code",
   "execution_count": 49,
   "metadata": {},
   "outputs": [],
   "source": [
    "#import data\n",
    "biomarkers = pd.DataFrame(pd.read_csv(\"biomarkers.csv\"))\n",
    "targets = pd.DataFrame(pd.read_csv(\"targets.csv\"))\n",
    "patients = open(\"patient_profiles.json\")"
   ]
  },
  {
   "cell_type": "code",
   "execution_count": null,
   "metadata": {
    "scrolled": false
   },
   "outputs": [],
   "source": [
    "#check proper import\n",
    "print(type(biomarkers))\n",
    "print(type(targets))\n",
    "print(type(patients))"
   ]
  },
  {
   "cell_type": "code",
   "execution_count": null,
   "metadata": {},
   "outputs": [],
   "source": [
    "#fix input problem of json importing as a string\n",
    "patients_str = patients.read()\n",
    "patients_json = json.loads(patients_str)[0]\n",
    "type(patients_json)"
   ]
  },
  {
   "cell_type": "code",
   "execution_count": 52,
   "metadata": {},
   "outputs": [],
   "source": [
    "#unfold nested dictionaries into dataframe\n",
    "patients = patients_json\n",
    "patients = pd.DataFrame(patients)\n",
    "patients = pd.json_normalize(patients[\"patient_profiles\"])"
   ]
  },
  {
   "cell_type": "code",
   "execution_count": null,
   "metadata": {
    "scrolled": true
   },
   "outputs": [],
   "source": [
    "#create master dataframe\n",
    "bioTarget = pd.merge(biomarkers, targets, on='biomarker_id')\n",
    "fullFile = pd.merge(bioTarget, patients, on=\"patient_id\")\n",
    "fullFile.head()"
   ]
  },
  {
   "cell_type": "code",
   "execution_count": null,
   "metadata": {},
   "outputs": [],
   "source": [
    "#check for NaN\n",
    "fullFile.isna().sum()"
   ]
  },
  {
   "cell_type": "code",
   "execution_count": null,
   "metadata": {
    "scrolled": true
   },
   "outputs": [],
   "source": [
    "#most of cohort does not have comorbidty index\n",
    "del fullFile[\"status.comorbidity_index\"]\n",
    "#fix NaN\n",
    "fullFile['demographics.race'].fillna(\"unknown\")"
   ]
  },
  {
   "cell_type": "code",
   "execution_count": null,
   "metadata": {
    "scrolled": true
   },
   "outputs": [],
   "source": [
    "#one hot encoding\n",
    "smoking_onehot = pd.get_dummies(fullFile[\"status.smoking_status\"])\n",
    "race_onehot = pd.get_dummies(fullFile['demographics.race'])\n",
    "subtype_onehot = pd.get_dummies(fullFile[\"status.disease_sub_type\"])\n",
    "gender_onehot = pd.get_dummies(fullFile[\"demographics.gender\"])\n",
    "cohort_onehot = pd.get_dummies(fullFile[\"status.cohort_qualifier\"])\n",
    "patients_onehot = smoking_onehot.join(race_onehot)\n",
    "patients_onehot1 = patients_onehot.join(subtype_onehot)\n",
    "patients_onehot2 = patients_onehot1.join(gender_onehot)\n",
    "patients_onehot3 = patients_onehot2.join(cohort_onehot)\n",
    "patients_onehot3.head()"
   ]
  },
  {
   "cell_type": "code",
   "execution_count": null,
   "metadata": {
    "scrolled": true
   },
   "outputs": [],
   "source": [
    "#merge one hot encoding to full dataframe\n",
    "full_onehot = patients_onehot3.join(fullFile)\n",
    "full_onehot.head()"
   ]
  },
  {
   "cell_type": "code",
   "execution_count": 58,
   "metadata": {},
   "outputs": [],
   "source": [
    "#remove unneeded columns\n",
    "del full_onehot[\"demographics.gender\"]\n",
    "del full_onehot[\"demographics.age\"]\n",
    "del full_onehot[\"status.cohort_qualifier\"]\n",
    "del full_onehot[\"demographics.race\"]\n",
    "del full_onehot[\"patient_id\"]\n",
    "del full_onehot[\"biomarker_id\"]\n",
    "del full_onehot[\"status.smoking_status\"]\n",
    "del full_onehot[\"status.disease_sub_type\"]"
   ]
  },
  {
   "cell_type": "code",
   "execution_count": null,
   "metadata": {
    "scrolled": false
   },
   "outputs": [],
   "source": [
    "#create a test vs train random split of data\n",
    "X = full_onehot\n",
    "Y = full_onehot[\"target_label\"]\n",
    "from sklearn.model_selection import train_test_split\n",
    "X_train, X_test, y_train, y_test = train_test_split(X, Y, test_size=0.30)\n",
    "data_test = X_test\n",
    "data_test[\"target_label\"] = y_test"
   ]
  },
  {
   "cell_type": "code",
   "execution_count": 60,
   "metadata": {},
   "outputs": [],
   "source": [
    "#remove target from predictor data\n",
    "del X_train[\"target_label\"]\n",
    "del X_test[\"target_label\"]"
   ]
  },
  {
   "cell_type": "code",
   "execution_count": null,
   "metadata": {
    "scrolled": false
   },
   "outputs": [],
   "source": [
    "#build classification tree model (CART)\n",
    "from sklearn.tree import DecisionTreeClassifier\n",
    "classifier = DecisionTreeClassifier()\n",
    "classifier.fit(X_train, y_train)"
   ]
  },
  {
   "cell_type": "code",
   "execution_count": 62,
   "metadata": {},
   "outputs": [
    {
     "name": "stdout",
     "output_type": "stream",
     "text": [
      "[[51  8]\n",
      " [ 4  7]]\n",
      "              precision    recall  f1-score   support\n",
      "\n",
      "           0       0.93      0.86      0.89        59\n",
      "           1       0.47      0.64      0.54        11\n",
      "\n",
      "    accuracy                           0.83        70\n",
      "   macro avg       0.70      0.75      0.72        70\n",
      "weighted avg       0.85      0.83      0.84        70\n",
      "\n"
     ]
    }
   ],
   "source": [
    "#evaluate the classification tree model\n",
    "y_pred = classifier.predict(X_test)\n",
    "from sklearn.metrics import classification_report, confusion_matrix\n",
    "print(confusion_matrix(y_test, y_pred))\n",
    "print(classification_report(y_test, y_pred))"
   ]
  },
  {
   "cell_type": "markdown",
   "metadata": {},
   "source": [
    "CART accuracy score : 0.83"
   ]
  },
  {
   "cell_type": "code",
   "execution_count": 63,
   "metadata": {},
   "outputs": [
    {
     "name": "stdout",
     "output_type": "stream",
     "text": [
      "KNeighbors accuracy score :  0.7714285714285715\n"
     ]
    }
   ],
   "source": [
    "#import\n",
    "from sklearn.neighbors import KNeighborsClassifier\n",
    "from sklearn.metrics import accuracy_score\n",
    "#create object of the classifier\n",
    "neigh = KNeighborsClassifier(n_neighbors=3)\n",
    "#Train\n",
    "neigh.fit(X_train, y_train)\n",
    "#predict\n",
    "pred = neigh.predict(data_test)\n",
    "#evaluate\n",
    "print (\"KNeighbors accuracy score : \",accuracy_score(y_test, pred))"
   ]
  },
  {
   "cell_type": "code",
   "execution_count": 64,
   "metadata": {},
   "outputs": [
    {
     "name": "stdout",
     "output_type": "stream",
     "text": [
      "LinearSVC accuracy :  0.8428571428571429\n"
     ]
    }
   ],
   "source": [
    "#import\n",
    "from sklearn.svm import LinearSVC\n",
    "from sklearn.metrics import accuracy_score\n",
    "#create an object of type LinearSVC\n",
    "svc_model = LinearSVC(random_state=0)\n",
    "#train the algorithm on training data and predict using the testing data\n",
    "pred = svc_model.fit(X_train, y_train).predict(data_test)\n",
    "#print the accuracy score of the model\n",
    "print(\"LinearSVC accuracy : \",accuracy_score(y_test, pred, normalize = True))"
   ]
  },
  {
   "cell_type": "code",
   "execution_count": 65,
   "metadata": {},
   "outputs": [
    {
     "name": "stdout",
     "output_type": "stream",
     "text": [
      "Naive-Bayes accuracy :  0.8428571428571429\n"
     ]
    }
   ],
   "source": [
    "#import\n",
    "from sklearn.naive_bayes import GaussianNB\n",
    "from sklearn.metrics import accuracy_score\n",
    "#create an object of the type GaussianNB\n",
    "gnb = GaussianNB()\n",
    "#train the algorithm on training data and predict using the testing data\n",
    "pred = gnb.fit(X_train, y_train).predict(data_test)\n",
    "#print the accuracy score of the model\n",
    "print(\"Naive-Bayes accuracy : \",accuracy_score(y_test, pred, normalize = True))"
   ]
  },
  {
   "cell_type": "markdown",
   "metadata": {},
   "source": [
    "When comparing these models, the SVC and Naive Bayes both slighly outperform CART but their accuracy is in question based on the model assumptions.\n",
    "\n",
    "CART is the model I reccomend for use on this classification process"
   ]
  }
 ],
 "metadata": {
  "kernelspec": {
   "display_name": "Python 3",
   "language": "python",
   "name": "python3"
  },
  "language_info": {
   "codemirror_mode": {
    "name": "ipython",
    "version": 3
   },
   "file_extension": ".py",
   "mimetype": "text/x-python",
   "name": "python",
   "nbconvert_exporter": "python",
   "pygments_lexer": "ipython3",
   "version": "3.7.6"
  }
 },
 "nbformat": 4,
 "nbformat_minor": 4
}
